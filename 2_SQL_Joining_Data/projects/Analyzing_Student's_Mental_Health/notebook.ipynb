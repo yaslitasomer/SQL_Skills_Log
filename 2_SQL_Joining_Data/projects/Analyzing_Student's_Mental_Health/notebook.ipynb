{
 "cells": [
  {
   "cell_type": "markdown",
   "id": "7a5932bc",
   "metadata": {},
   "source": [
    "### Analyzing Student's Mental Health Project from DataCamp SQL Track"
   ]
  },
  {
   "cell_type": "markdown",
   "id": "3b05e587-87e3-4bec-9511-ddaae6552ac4",
   "metadata": {},
   "source": [
    "![Illustration of silhouetted heads](mentalhealth.jpg)"
   ]
  },
  {
   "cell_type": "markdown",
   "id": "dbd633ea-2c0a-4bac-a6fe-0cc86896162b",
   "metadata": {},
   "source": [
    "Does going to university in a different country affect your mental health? A Japanese international university surveyed its students in 2018 and published a study the following year that was approved by several ethical and regulatory boards.\n",
    "\n",
    "The study found that international students have a higher risk of mental health difficulties than the general population, and that social connectedness (belonging to a social group) and acculturative stress (stress associated with joining a new culture) are predictive of depression.\n",
    "\n",
    "\n",
    "Explore the `students` data using PostgreSQL to find out if you would come to a similar conclusion for international students and see if the length of stay is a contributing factor.\n",
    "\n",
    "Here is a data description of the columns you may find helpful."
   ]
  },
  {
   "cell_type": "markdown",
   "id": "167d9c0e-7aba-4e44-99e3-679159e28970",
   "metadata": {},
   "source": [
    "| Field Name    | Description                                      |\n",
    "| ------------- | ------------------------------------------------ |\n",
    "| `inter_dom`     | Types of students (international or domestic)   |\n",
    "| `japanese_cate` | Japanese language proficiency                    |\n",
    "| `english_cate`  | English language proficiency                     |\n",
    "| `academic`      | Current academic level (undergraduate or graduate) |\n",
    "| `age`           | Current age of student                           |\n",
    "| `stay`          | Current length of stay in years                  |\n",
    "| `todep`         | Total score of depression (PHQ-9 test)           |\n",
    "| `tosc`          | Total score of social connectedness (SCS test)   |\n",
    "| `toas`          | Total score of acculturative stress (ASISS test) |"
   ]
  },
  {
   "cell_type": "code",
   "execution_count": 1,
   "id": "4a30581a",
   "metadata": {},
   "outputs": [
    {
     "name": "stdout",
     "output_type": "stream",
     "text": [
      "Successfully connected to the database.\n",
      "CSV file read successfully.\n",
      "Data successfully loaded into the 'students' table.\n"
     ]
    }
   ],
   "source": [
    "import sqlite3\n",
    "import pandas as pd\n",
    "\n",
    "# 1. Connect to the SQLite database\n",
    "# It will create a new file named 'practice.db' if it doesn't exist.\n",
    "conn = sqlite3.connect('project.db')\n",
    "print(\"Successfully connected to the database.\")\n",
    "\n",
    "# 2. Read the CSV file into a Pandas DataFrame\n",
    "# Make sure your 'students.csv' file is in the same directory as this notebook.\n",
    "df = pd.read_csv('students.csv')\n",
    "print(\"CSV file read successfully.\")\n",
    "\n",
    "# 3. Write the DataFrame to a new SQL table\n",
    "# We name the new table 'students'.\n",
    "# 'if_exists=\"replace\"' will replace the table if it already exists.\n",
    "# 'index=False' prevents Pandas from writing the DataFrame index as a column.\n",
    "df.to_sql('students', conn, if_exists='replace', index=False)\n",
    "print(\"Data successfully loaded into the 'students' table.\")\n",
    "\n",
    "# 4. Close the database connection\n",
    "conn.close()"
   ]
  },
  {
   "cell_type": "code",
   "execution_count": 3,
   "id": "a60a4d75-634c-4965-8e01-804780e6df98",
   "metadata": {
    "customType": "sql",
    "dataFrameVariableName": "students",
    "executionCancelledAt": null,
    "executionTime": 2874,
    "lastExecutedAt": 1758049505731,
    "lastExecutedByKernel": "28c68cfd-02a0-4d2b-bb4f-e09fa6f6de8e",
    "lastScheduledRunId": null,
    "lastSuccessfullyExecutedCode": "-- Run this code to view the data in students\nSELECT * \nFROM students;",
    "outputsMetadata": {
     "0": {
      "chartState": {
       "activeTab": "settings",
       "chartModel": {
        "cellRange": {
         "columns": [
          "pivot_age__",
          "pivot_age_17_",
          "pivot_age_18_",
          "pivot_age_19_",
          "pivot_age_20_",
          "pivot_age_21_",
          "pivot_age_22_",
          "pivot_age_23_",
          "pivot_age_24_",
          "pivot_age_25_",
          "pivot_age_27_",
          "pivot_age_28_",
          "pivot_age_29_",
          "pivot_age_30_",
          "pivot_age_31_"
         ],
         "rowEndIndex": null,
         "rowEndPinned": null,
         "rowStartIndex": null,
         "rowStartPinned": null
        },
        "chartId": "id-7uxl5f15tn",
        "chartOptions": {},
        "chartPalette": {
         "altDown": {
          "fill": "#ffa03a",
          "stroke": "#cc6f10"
         },
         "altNeutral": {
          "fill": "#b5b5b5",
          "stroke": "#575757"
         },
         "altUp": {
          "fill": "#5090dc",
          "stroke": "#2b5c95"
         },
         "down": {
          "fill": "#ef5452",
          "stroke": "#a82529"
         },
         "fills": [
          "#6568A0",
          "#43D7A4",
          "#4095DB",
          "#FACC5F",
          "#CAE279",
          "#F08083",
          "#5BCDF2",
          "#F099DC",
          "#965858",
          "#7DB64F",
          "#A98954"
         ],
         "neutral": {
          "fill": "#b5b5b5",
          "stroke": "#575757"
         },
         "strokes": [
          "#6568A0",
          "#43D7A4",
          "#4095DB",
          "#FACC5F",
          "#CAE279",
          "#F08083",
          "#5BCDF2",
          "#F099DC",
          "#965858",
          "#7DB64F",
          "#A98954"
         ],
         "up": {
          "fill": "#459d55",
          "stroke": "#1e652e"
         }
        },
        "chartThemeName": "datalabTheme",
        "chartType": "groupedColumn",
        "modelType": "pivot",
        "suppressChartRanges": true,
        "switchCategorySeries": false,
        "unlinkChart": false,
        "version": "32.2.2"
       },
       "pivotMode": {
        "config": {
         "pivot": {
          "pivotColIds": [
           "age"
          ]
         }
        },
        "enabled": true
       },
       "rangeChartModel": {
        "rangeColumns": [
         "age__number_category__"
        ],
        "switchCategorySeries": false
       }
      },
      "height": 315,
      "tableState": {},
      "type": "dataFrame"
     }
    },
    "sqlCellMode": "dataFrame",
    "sqlSource": {
     "integrationId": "89e17161-a224-4a8a-846b-0adc0fe7a4b1",
     "integrationType": "postgresql",
     "type": "integration"
    },
    "version": "ag-charts-v1",
    "visualizeDataframe": false
   },
   "outputs": [
    {
     "name": "stdout",
     "output_type": "stream",
     "text": [
      "    inter_dom region  gender academic   age  age_cate  stay stay_cate  \\\n",
      "0       Inter    SEA    Male     Grad  24.0       4.0   5.0      Long   \n",
      "1       Inter    SEA    Male     Grad  28.0       5.0   1.0     Short   \n",
      "2       Inter    SEA    Male     Grad  25.0       4.0   6.0      Long   \n",
      "3       Inter     EA  Female     Grad  29.0       5.0   1.0     Short   \n",
      "4       Inter     EA  Female     Grad  28.0       5.0   1.0     Short   \n",
      "..        ...    ...     ...      ...   ...       ...   ...       ...   \n",
      "281      None   None    None     None   NaN       NaN   NaN      None   \n",
      "282      None   None    None     None   NaN       NaN   NaN      None   \n",
      "283      None   None    None     None   NaN       NaN   NaN      None   \n",
      "284      None   None    None     None   NaN       NaN   NaN      None   \n",
      "285      None   None    None     None   NaN       NaN   NaN      None   \n",
      "\n",
      "     japanese japanese_cate  ...  friends_bi parents_bi relative_bi  \\\n",
      "0         3.0       Average  ...         Yes        Yes          No   \n",
      "1         4.0          High  ...         Yes        Yes          No   \n",
      "2         4.0          High  ...          No         No          No   \n",
      "3         2.0           Low  ...         Yes        Yes         Yes   \n",
      "4         1.0           Low  ...         Yes        Yes          No   \n",
      "..        ...           ...  ...         ...        ...         ...   \n",
      "281       NaN          None  ...         222       None        None   \n",
      "282       NaN          None  ...         249       None        None   \n",
      "283       NaN          None  ...         203       None        None   \n",
      "284       NaN          None  ...         247       None        None   \n",
      "285       NaN          None  ...         223       None        None   \n",
      "\n",
      "    professional_bi phone_bi doctor_bi religion_bi  alone_bi others_bi  \\\n",
      "0                No       No        No          No        No        No   \n",
      "1                No       No        No          No        No        No   \n",
      "2                No       No        No          No        No        No   \n",
      "3               Yes       No        No          No        No        No   \n",
      "4               Yes       No       Yes         Yes        No        No   \n",
      "..              ...      ...       ...         ...       ...       ...   \n",
      "281            None     None      None        None      None      None   \n",
      "282            None     None      None        None      None      None   \n",
      "283            None     None      None        None      None      None   \n",
      "284            None     None      None        None      None      None   \n",
      "285            None     None      None        None      None      None   \n",
      "\n",
      "     internet_bi  \n",
      "0             No  \n",
      "1             No  \n",
      "2             No  \n",
      "3             No  \n",
      "4             No  \n",
      "..           ...  \n",
      "281         None  \n",
      "282         None  \n",
      "283         None  \n",
      "284         None  \n",
      "285         None  \n",
      "\n",
      "[286 rows x 50 columns]\n"
     ]
    }
   ],
   "source": [
    "import pandas as pd\n",
    "import sqlite3\n",
    "\n",
    "# Reconnect to the database to run the query\n",
    "conn = sqlite3.connect('project.db')\n",
    "\n",
    "# Run a simple SELECT query to see your data\n",
    "students_df = pd.read_sql(\"SELECT * FROM students\", conn)\n",
    "print(students_df)\n",
    "\n",
    "conn.close()"
   ]
  },
  {
   "cell_type": "code",
   "execution_count": 4,
   "id": "ab01f727-3ae9-491a-bf8b-6d507e7dbf15",
   "metadata": {
    "customType": "sql",
    "dataFrameVariableName": "df",
    "sqlCellMode": "dataFrame",
    "sqlSource": {
     "integrationId": "89e17161-a224-4a8a-846b-0adc0fe7a4b1",
     "integrationType": "postgresql",
     "type": "integration"
    }
   },
   "outputs": [
    {
     "name": "stdout",
     "output_type": "stream",
     "text": [
      "   stay  count_int  average_phq  average_scs  average_as\n",
      "0  10.0          1        13.00        32.00       50.00\n",
      "1   8.0          1        10.00        44.00       65.00\n",
      "2   7.0          1         4.00        48.00       45.00\n",
      "3   6.0          3         6.00        38.00       58.67\n",
      "4   5.0          1         0.00        34.00       91.00\n",
      "5   4.0         14         8.57        33.93       87.71\n",
      "6   3.0         46         9.09        37.13       78.00\n",
      "7   2.0         39         8.28        37.08       77.67\n",
      "8   1.0         95         7.48        38.11       72.80\n"
     ]
    }
   ],
   "source": [
    "query = '''\n",
    "SELECT stay, COUNT(*) as count_int, ROUND(AVG(todep), 2) as average_phq, ROUND(AVG(tosc), 2) as average_scs, ROUND(AVG(toas), 2) as average_as\n",
    "FROM students\n",
    "WHERE inter_dom = 'Inter'\n",
    "GROUP BY stay\n",
    "ORDER BY stay DESC\n",
    "'''\n",
    "\n",
    "# Reconnect to the database to run the query\n",
    "conn = sqlite3.connect('project.db')\n",
    "\n",
    "# Run a the query\n",
    "students_df = pd.read_sql(query, conn)\n",
    "print(students_df)\n",
    "\n",
    "conn.close()"
   ]
  }
 ],
 "metadata": {
  "colab": {
   "name": "Welcome to DataCamp Workspaces.ipynb",
   "provenance": []
  },
  "kernelspec": {
   "display_name": "base",
   "language": "python",
   "name": "python3"
  },
  "language_info": {
   "codemirror_mode": {
    "name": "ipython",
    "version": 3
   },
   "file_extension": ".py",
   "mimetype": "text/x-python",
   "name": "python",
   "nbconvert_exporter": "python",
   "pygments_lexer": "ipython3",
   "version": "3.12.4"
  }
 },
 "nbformat": 4,
 "nbformat_minor": 5
}
